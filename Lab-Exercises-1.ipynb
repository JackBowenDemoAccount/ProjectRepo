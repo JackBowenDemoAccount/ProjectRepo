{
 "cells": [
  {
   "cell_type": "markdown",
   "metadata": {},
   "source": [
    "# Lab Exercises\n",
    "\n",
    "## Introduction to Python, Part 2\n",
    "\n",
    "### Questions/Office Hours\n",
    "\n",
    "If you have questions about this week's lab **ANY** TA for this class can help you with any problems in office hours. That being said, if you need help over email it is best to email **YOUR** TA.\n",
    "\n",
    "You can also always ask the instructor for help with skills labs (even though they are not covered in lecture). You can email the instructor of come to his office hours."
   ]
  },
  {
   "cell_type": "markdown",
   "metadata": {},
   "source": [
    "----"
   ]
  },
  {
   "cell_type": "markdown",
   "metadata": {},
   "source": [
    "## Exercises\n",
    "\n",
    "As with last week, these exercises are short and primarily drawn from your reading for this week, chapters 4, 5, and 6 of *Python for Everyone*. For your reference:\n",
    "\n",
    "* [Chapter 4: Functions](https://www.py4e.com/html3/04-functions)\n",
    "* [Chapter 5: Iterations](https://www.py4e.com/html3/05-iterations)\n",
    "* [Chapter 6: Strings](https://www.py4e.com/html3/06-strings)\n",
    "\n",
    "Before you begin, a reminder to use [Read-Search-Ask](https://medium.freecodecamp.org/read-search-dont-be-afraid-to-ask-743a23c411b4) if you get stuck. *Bonne chance!*\n",
    "\n",
    "![](https://media.giphy.com/media/SmFXBM4HuN344/giphy.gif)"
   ]
  },
  {
   "cell_type": "markdown",
   "metadata": {},
   "source": [
    "----"
   ]
  },
  {
   "cell_type": "markdown",
   "metadata": {},
   "source": [
    "#### **Exercise 1**\n",
    "\n",
    "###### sections to reference: [4.6](https://www.py4e.com/html3/04-functions#adding-new-functions)\n",
    "\n",
    "Tell me, in your own words, what the `def` keyword does. You don't need to write an essay, just a sentence or two will do.\n",
    "It is the keyword that denotes the upcoming definition of a function, hence def, it's needed to identify the following piece of code as a function defined by the user."
   ]
  },
  {
   "cell_type": "markdown",
   "metadata": {},
   "source": [
    "#### **Exercise 2**\n",
    "\n",
    "###### sections to reference: [4.1](https://www.py4e.com/html3/04-functions#function-calls), last week's lab\n",
    "\n",
    "What Python **function calls** have you used before in this class? Make a Markdown list of them, and for each one, list the function *name*, the *argument* (or arguments) of the function, and what the *result* is.\n",
    "Truthfully, prior to this class I had no real experience with python and subsequently don't have the ability to list any of the function calls as I haven't done them.\n",
    "\n",
    "Now, go to [this Python documentation page](https://docs.python.org/3/library/functions.html). Pick one of the functions in the table at the top, and **tell me** the function name, argument or arguments, and what its result is. You can jump to a description of the function by clicking on it in the table.\n",
    "I picked the abs(x) function in the documentation page. The argument is x, which is the int, floating point or object that is passed into the function, and the result is the absolute value of the argument passed into the function call so that abs(-1) would return 1."
   ]
  },
  {
   "cell_type": "markdown",
   "metadata": {},
   "source": [
    "#### **Exercise 3**\n",
    "\n",
    "###### sections to reference: [4.7](https://www.py4e.com/html3/04-functions#definitions-and-uses), [4.8](https://www.py4e.com/html3/04-functions#flow-of-execution)\n",
    "\n",
    "Look at the code block below. Write down your prediction for what it's going to print out. Then, run it! Was your prediction correct? Tell me yes or no, and if no, tell me why not."
   ]
  },
  {
   "cell_type": "code",
   "execution_count": null,
   "metadata": {},
   "outputs": [],
   "source": [
    "def apples():\n",
    "    print(\"Foo\")\n",
    "\n",
    "def bananas():\n",
    "    print(\"Bar\")\n",
    "\n",
    "def pineapples():\n",
    "    apples()\n",
    "    bananas()\n",
    "\n",
    "apples()\n",
    "bananas()\n",
    "apples()\n",
    "pineapples()"
   ]
  },
  {
   "cell_type": "markdown",
   "metadata": {},
   "source": [
    "I expect to see, in order, the following: Foo, Bar, Foo, Foo, Bar. When running the code I can see that my prediction was correct."
   ]
  },
  {
   "cell_type": "markdown",
   "metadata": {},
   "source": [
    "#### **Exercise 4**\n",
    "\n",
    "###### sections to reference: [4.4](https://www.py4e.com/html3/04-functions#math-functions), [4.5](https://www.py4e.com/html3/04-functions#random-numbers)\n",
    "\n",
    "You're going to write a program that gives a user a certain number of random integers between a specified upper and lower bound. So, you need to **ask the user** for three things: \n",
    "\n",
    "1. how many integers they want\n",
    "2. the lower bound (the number that all of your random integers should be *bigger than*), and\n",
    "3. the upper bound (the number that all of your random integers should be *smaller than*)\n",
    "\n",
    "After you ask the user for those things, you want to **generate integers** between those bounds, so each of your integers should fit the following formula:\n",
    "\n",
    "$$lower\\_bound \\leq your\\_integer \\leq upper\\_bound$$\n",
    "\n",
    "You don't have to worry about duplicates or anything, so the best way to do it is to **print each integer** as you generate it. \n",
    "\n",
    "**HINT:** You generate random integers with the `random.randint()` function, so what package do you have to *import* to use that function?"
   ]
  },
  {
   "cell_type": "code",
   "execution_count": null,
   "metadata": {},
   "outputs": [],
   "source": [
    "import random\n",
    "\n",
    "num_ints = int(input(\"Please enter the number of integers you would like to see randomly generated: \"))\n",
    "\n",
    "upper = int(input(\"Please enter the upper bound of values you would like to see generated, please input a whole number: \"))\n",
    "\n",
    "lower = int(input(\"Please enter the lower bound of values you would like to see generated, please input a whole number: \"))\n",
    "print(type(lower))\n",
    "print(type(upper))\n",
    "for i in range(num_ints):\n",
    "    output = random.randint(upper, lower)\n",
    "    print(output)"
   ]
  },
  {
   "cell_type": "markdown",
   "metadata": {},
   "source": [
    "#### **Exercise 5**\n",
    "\n",
    "###### sections to reference: [5.5](https://www.py4e.com/html3/05-iterations#definite-loops-using-for)\n",
    "\n",
    "Write a program that wishes a happy fall to a list of your friends. Declare a list of names, and add as many names as you want. Then, using a for loop, print out the message \"Happy fall,\" and each name on the list. "
   ]
  },
  {
   "cell_type": "code",
   "execution_count": null,
   "metadata": {},
   "outputs": [],
   "source": [
    "friends = [\"Aaron\",\"Justin\",\"Roshan\"]\n",
    "\n",
    "for i in friends: \n",
    "    print(\"Happy Fall \" + i + \"!\")"
   ]
  },
  {
   "cell_type": "markdown",
   "metadata": {},
   "source": [
    "#### **Exercise 6**\n",
    "\n",
    "###### sections to reference: [5.3](https://www.py4e.com/html3/05-iterations#infinite-loops), [5.7](https://www.py4e.com/html3/05-iterations#counting-and-summing-loops)\n",
    "\n",
    "Write a program that **lets the user enter** as many integers as they want. When any input that's not an integer is entered, the user is done entering integers. After they're done, print out the **average** of all the integers entered.\n",
    "\n",
    "Be sure to test this with a wide range of numbers, to make sure it's doing what you want it to."
   ]
  },
  {
   "cell_type": "code",
   "execution_count": 2,
   "metadata": {},
   "outputs": [],
   "source": [
    "is_int = True\n",
    "num_inputs = 0\n",
    "total_sum = 0\n",
    "while is_int:\n",
    "    storage = input(\"Please enter a whole number: \")\n",
    "    if(storage.isdigit()):\n",
    "        total_sum += int(storage)\n",
    "        num_inputs += 1\n",
    "    else:\n",
    "        break\n",
    "\n",
    "total_sum = total_sum/num_inputs\n",
    "print(total_sum)\n",
    "\n"
   ]
  },
  {
   "cell_type": "markdown",
   "metadata": {},
   "source": [
    "#### **Exercise 7**\n",
    "\n",
    "###### sections to reference: [6.3](https://www.py4e.com/html3/06-strings#traversal-through-a-string-with-a-loop), [6.6](https://www.py4e.com/html3/06-strings#looping-and-counting)\n",
    "\n",
    "Write a program that lets a user **enter a string**, and have your program **how many** vowels and consonants are in the word. ('Y' is always a vowel.)\n",
    "\n",
    "Don't worry about making this run infinitely, you don't have to process more than one word per run of the program. Also, you're going to want to convert the string to all lower-case before you do any comparisons to it. \n",
    "\n",
    "Finally, once you have the number of vowels, you don't have to loop through the word *again* to test for consonants. How can you find the number of consonants in a word with just the number of vowels?"
   ]
  },
  {
   "cell_type": "code",
   "execution_count": null,
   "metadata": {},
   "outputs": [],
   "source": [
    "word = input(\"Please enter a single word: \")\n",
    "word = word.lower()\n",
    "for i in range(0, len(word)):\n",
    "    if(word[i] == 'a' or word[i] == 'e' or word[i] == 'u' or word[i] == 'o' or word[i] == 'i' or word[i] == 'y'):\n",
    "        print(word[i])\n",
    "    "
   ]
  },
  {
   "cell_type": "markdown",
   "metadata": {},
   "source": [
    "#### **Exercise 8**\n",
    "\n",
    "###### sections to reference: [6.9](https://www.py4e.com/html3/06-strings#string-methods), Python docs\n",
    "\n",
    "Take a moment and read through the standard string methods that Python provides [here](https://docs.python.org/library/stdtypes.html#string-methods). You should try to keep those methods and what they can do in the back of your mind, as they can come in very handy.\n",
    "\n",
    "Your programming exercise is very open-ended: **write a program** that uses at least three of those string methods. You don't have to take any user input, although you could if you wanted. You don't have to define any functions, although you probably should if your program is doing a lot of different things. \n",
    "\n",
    "The only thing that is required, besides the string methods, is to **comment your code**. Use the `#` character at the end of a line of code, and describe what's going on. That's how you'll be graded on this assignment: how well your comments match up with what your code actually does.\n",
    "\n",
    "Have fun!"
   ]
  },
  {
   "cell_type": "code",
   "execution_count": null,
   "metadata": {},
   "outputs": [],
   "source": [
    "#The purpose of this code is to ask for a user input, and if the input is a int, then print out that number squared, but if it's a string, then convert the string to all uppercase and print it and then lowercase and print it\n",
    "user_input = input(\"Enter a string or a number: \")\n",
    "\n",
    "#check if it's a number\n",
    "if user_input.isdigit():\n",
    "    user_input = int(user_input) * int(user_input)\n",
    "    print(user_input)\n",
    "else:\n",
    "    user_input = user_input.upper()\n",
    "    print(user_input)\n",
    "    user_input = user_input.lower()\n",
    "    print(user_input)"
   ]
  },
  {
   "cell_type": "markdown",
   "metadata": {},
   "source": [
    "#### **Exercise 9**\n",
    "\n",
    "###### sections to reference: [6.4](https://www.py4e.com/html3/06-strings#string-slices), [6.10](https://www.py4e.com/html3/06-strings#parsing-strings)\n",
    "![jeff](https://media.giphy.com/media/ZLEdByf49a2XK/giphy.gif)\n",
    "\n",
    "Below, I've given you a string from a spam filter. Using string methods, get rid of everything before the colon and the spacing until you have just the number. Then, convert the number into a float, and convert it into a percentage. Print out the percentage"
   ]
  },
  {
   "cell_type": "code",
   "execution_count": null,
   "metadata": {},
   "outputs": [],
   "source": [
    "import re\n",
    "\n",
    "spam_string = 'X-DSPAM-Confidence: 0.8475 '\n",
    "x=re.findall(\"\\d+\\.\\d+\",spam_string)\n",
    "x1 = float(x[0])\n",
    "x1 *= 100\n",
    "print(x1, \"%\")"
   ]
  }
 ],
 "metadata": {
  "kernelspec": {
   "display_name": "Python 3.8.6 32-bit",
   "language": "python",
   "name": "python3"
  },
  "language_info": {
   "codemirror_mode": {
    "name": "ipython",
    "version": 3
   },
   "file_extension": ".py",
   "mimetype": "text/x-python",
   "name": "python",
   "nbconvert_exporter": "python",
   "pygments_lexer": "ipython3",
   "version": "3.11.5"
  },
  "vscode": {
   "interpreter": {
    "hash": "75e4a6a75c2bafdb358241a31c28830e81db8b6e5287e59fc181d3e0eb9324ab"
   }
  }
 },
 "nbformat": 4,
 "nbformat_minor": 4
}
